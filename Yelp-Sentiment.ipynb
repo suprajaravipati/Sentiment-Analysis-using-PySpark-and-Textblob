{
 "cells": [
  {
   "cell_type": "code",
   "execution_count": 1,
   "metadata": {},
   "outputs": [],
   "source": [
    "from pyspark.sql import SparkSession\n",
    "from textblob import TextBlob"
   ]
  },
  {
   "cell_type": "code",
   "execution_count": 2,
   "metadata": {},
   "outputs": [],
   "source": [
    "spark = SparkSession.builder.appName('Yelp').getOrCreate()\n",
    "#sc.stop()"
   ]
  },
  {
   "cell_type": "code",
   "execution_count": 3,
   "metadata": {},
   "outputs": [],
   "source": [
    "sc.stop()"
   ]
  },
  {
   "cell_type": "code",
   "execution_count": 4,
   "metadata": {},
   "outputs": [],
   "source": [
    "sc = SparkContext(\"local[*]\")\n",
    "spark = SparkSession(sc).builder.getOrCreate()\n",
    "spark.sparkContext.setLogLevel(\"ERROR\")\n"
   ]
  },
  {
   "cell_type": "code",
   "execution_count": 5,
   "metadata": {},
   "outputs": [
    {
     "name": "stdout",
     "output_type": "stream",
     "text": [
      "root\n",
      " |-- review_id: string (nullable = true)\n",
      " |-- user_id: string (nullable = true)\n",
      " |-- business_id: string (nullable = true)\n",
      " |-- stars: string (nullable = true)\n",
      " |-- date: string (nullable = true)\n",
      " |-- text: string (nullable = true)\n",
      " |-- useful: string (nullable = true)\n",
      " |-- funny: string (nullable = true)\n",
      " |-- cool: string (nullable = true)\n",
      "\n",
      "+--------------------+--------------------+--------------------+-----+----------+--------------------+------+-----+----+\n",
      "|           review_id|             user_id|         business_id|stars|      date|                text|useful|funny|cool|\n",
      "+--------------------+--------------------+--------------------+-----+----------+--------------------+------+-----+----+\n",
      "|vkVSCC7xljjrAI4UG...|bv2nCi5Qv5vroFiqK...|AEx2SYEUJmTxVVB18...|    5|2016-05-28|Super simple plac...|  null| null|null|\n",
      "|Staff was very he...|                   0|                   0|    0|      null|                null|  null| null|null|\n",
      "|n6QzIUObkYshz4dz2...|bv2nCi5Qv5vroFiqK...|VR6GpWIda3SfvPC-l...|    5|2016-05-28|Small unassuming ...|  null| null|null|\n",
      "|We had their beef...|                null|                null| null|      null|                null|  null| null|null|\n",
      "|A bit outside of ...|                   0|                   0|    0|      null|                null|  null| null|null|\n",
      "|MV3CcKScW05u5LVfF...|bv2nCi5Qv5vroFiqK...|CKC0-MOWMqoeWf6s-...|    5|2016-05-28|Lester's is locat...|  null| null|null|\n",
      "|The smoked meat i...|                   0|                   0|    0|      null|                null|  null| null|null|\n",
      "|IXvOzsEMYtiJI0CAR...|bv2nCi5Qv5vroFiqK...|ACFtxLv8pGrrxMm6E...|    4|2016-05-28|Love coming here....|  null| null|null|\n",
      "|The food speaks f...| so good. Burgers...| the regular is a...| null|      null|                null|  null| null|null|\n",
      "|Getting the Cajun...|                   0|                   0|    0|      null|                null|  null| null|null|\n",
      "|L_9BTb55X0GDtThi6...|bv2nCi5Qv5vroFiqK...|s2I_Ni76bjJNK9yG6...|    4|2016-05-28|Had their chocola...|  null| null|null|\n",
      "|If you're looking...|                   0|                   0|    0|      null|                null|  null| null|null|\n",
      "|HRPm3vEZ_F-33TYVT...|_4iMDXbXZ1p1ONG29...|8QWPlVQ6D-OExqXoa...|    5|2014-09-24|Cycle Pub Las Veg...|     1|    0|   0|\n",
      "|ymAUG8DZfQcFTBSOi...|u0LXt3Uea_GidxRW1...|9_CGhHMz8698M9-Pk...|    4|2012-05-11|Who would have gu...|  null| null|null|\n",
      "|Not quite the sam...| this is the next...|                null| null|      null|                null|  null| null|null|\n",
      "|So far the only i...| chicken & vegeta...|                null| null|      null|                null|  null| null|null|\n",
      "| Next time I go back| I'm going to try...|                   0|    0|         2|                null|  null| null|null|\n",
      "|8UIishPUD92hXtScS...|u0LXt3Uea_GidxRW1...|gkCorLgPyQLsptTHa...|    4|2015-10-27|Always drove past...|  null| null|null|\n",
      "|                Cute| quaint coffee sh...|                null| null|      null|                null|  null| null|null|\n",
      "|BF ordered an ice...|                   1|                   0|    0|      null|                null|  null| null|null|\n",
      "+--------------------+--------------------+--------------------+-----+----------+--------------------+------+-----+----+\n",
      "only showing top 20 rows\n",
      "\n"
     ]
    }
   ],
   "source": [
    "#1. Clean the dataset\n",
    "data = spark.read.csv(\"C:\\\\Users\\\\alire\\\\Desktop\\\\Scalable\\\\Final\\\\yelp_review.csv\",inferSchema=True,header=True)\n",
    "#df = spark.read.format(\"csv\").option(\"header\", \"true\").option(\"multiline\",\"true\").load(\"C:\\\\Users\\\\alire\\\\Desktop\\\\Scalable\\\\yelp_review.csv\")\n",
    "data.printSchema()\n",
    "data.show()"
   ]
  },
  {
   "cell_type": "code",
   "execution_count": 6,
   "metadata": {},
   "outputs": [
    {
     "name": "stdout",
     "output_type": "stream",
     "text": [
      "+--------------------+-----+\n",
      "|                text|label|\n",
      "+--------------------+-----+\n",
      "|Super simple plac...|  5.0|\n",
      "|Small unassuming ...|  5.0|\n",
      "|Lester's is locat...|  5.0|\n",
      "|Love coming here....|  4.0|\n",
      "|Had their chocola...|  4.0|\n",
      "|Cycle Pub Las Veg...|  5.0|\n",
      "|Who would have gu...|  4.0|\n",
      "|Always drove past...|  4.0|\n",
      "|Not bad!! Love th...|  3.0|\n",
      "|    Love this place!|  5.0|\n",
      "|This is currently...|  4.0|\n",
      "|Server was a litt...|  3.0|\n",
      "|I thought Tidy's ...|  1.0|\n",
      "|Wanted to check o...|  3.0|\n",
      "|This place is awe...|  5.0|\n",
      "|a must stop when ...|  4.0|\n",
      "|I too have been t...|  1.0|\n",
      "|Came here with my...|  3.0|\n",
      "|Came here for a b...|  3.0|\n",
      "|really excited to...|  1.0|\n",
      "+--------------------+-----+\n",
      "only showing top 20 rows\n",
      "\n"
     ]
    }
   ],
   "source": [
    "data = data.withColumn(\"label\", data[\"stars\"].cast(\"double\"))\n",
    "data = data.dropna(subset=['label', 'text'])\n",
    "\n",
    "data = data.select('text','label')\n",
    "data=data.filter(data['label']<=5.0)\n",
    "data=data.filter(data['label']>0.0)\n",
    "data.show()"
   ]
  },
  {
   "cell_type": "code",
   "execution_count": 7,
   "metadata": {},
   "outputs": [
    {
     "name": "stdout",
     "output_type": "stream",
     "text": [
      "Number of rows (original data)= 5415605\n"
     ]
    }
   ],
   "source": [
    "print('Number of rows (original data)=',data.count())\n"
   ]
  },
  {
   "cell_type": "code",
   "execution_count": 8,
   "metadata": {},
   "outputs": [
    {
     "name": "stdout",
     "output_type": "stream",
     "text": [
      "+--------------------+-----+\n",
      "|                text|label|\n",
      "+--------------------+-----+\n",
      "|   !!! STAY AWAY!!!!|  1.0|\n",
      "|\"$2 dollar tacos ...|  4.0|\n",
      "|\"$7 toast and $16...|  1.0|\n",
      "|\"...and if you ev...|  4.0|\n",
      "|\"0\\/0 Stars. 6 mo...|  1.0|\n",
      "|\"1. Remodeled roo...|  3.0|\n",
      "|\"2.5 stars, reall...|  2.0|\n",
      "|\"3 of us missed o...|  2.0|\n",
      "|\"5 stars for the ...|  3.0|\n",
      "|\"A \"\"home cooked\"...|  3.0|\n",
      "|\"A French inspire...|  3.0|\n",
      "|\"A bald headed fa...|  1.0|\n",
      "|\"A fellow Yelper ...|  3.0|\n",
      "|\"A friend and I h...|  5.0|\n",
      "|\"A friend and I w...|  5.0|\n",
      "|\"A good haircut i...|  5.0|\n",
      "|\"A good\"\"away fro...|  4.0|\n",
      "|\"A great happy ho...|  3.0|\n",
      "|\"A little hard to...|  4.0|\n",
      "|\"A name that impl...|  2.0|\n",
      "+--------------------+-----+\n",
      "only showing top 20 rows\n",
      "\n",
      "Number of rows (Test dataset)= 525908\n"
     ]
    }
   ],
   "source": [
    "(training,testing) = data.randomSplit([0.903,0.097],seed=100)\n",
    "testing.show()\n",
    "print('Number of rows (Test dataset)=',testing.count())"
   ]
  },
  {
   "cell_type": "code",
   "execution_count": 10,
   "metadata": {},
   "outputs": [
    {
     "name": "stdout",
     "output_type": "stream",
     "text": [
      "+--------------------+-----+------+\n",
      "|                text|label|length|\n",
      "+--------------------+-----+------+\n",
      "|   !!! STAY AWAY!!!!|  1.0|    17|\n",
      "|\"$2 dollar tacos ...|  4.0|   328|\n",
      "|\"$7 toast and $16...|  1.0|    35|\n",
      "|\"...and if you ev...|  4.0|    98|\n",
      "|\"0\\/0 Stars. 6 mo...|  1.0|   482|\n",
      "|\"1. Remodeled roo...|  3.0|    80|\n",
      "|\"2.5 stars, reall...|  2.0|   193|\n",
      "|\"3 of us missed o...|  2.0|   574|\n",
      "|\"5 stars for the ...|  3.0|   286|\n",
      "|\"A \"\"home cooked\"...|  3.0|    34|\n",
      "|\"A French inspire...|  3.0|   222|\n",
      "|\"A bald headed fa...|  1.0|   867|\n",
      "|\"A fellow Yelper ...|  3.0|   102|\n",
      "|\"A friend and I h...|  5.0|   268|\n",
      "|\"A friend and I w...|  5.0|   529|\n",
      "|\"A good haircut i...|  5.0|    81|\n",
      "|\"A good\"\"away fro...|  4.0|    38|\n",
      "|\"A great happy ho...|  3.0|   178|\n",
      "|\"A little hard to...|  4.0|   208|\n",
      "|\"A name that impl...|  2.0|    82|\n",
      "+--------------------+-----+------+\n",
      "only showing top 20 rows\n",
      "\n"
     ]
    }
   ],
   "source": [
    "from pyspark.sql.functions import length\n",
    "testing = testing.withColumn('length',length(testing['text']))\n",
    "testing.show()\n"
   ]
  },
  {
   "cell_type": "code",
   "execution_count": 11,
   "metadata": {},
   "outputs": [],
   "source": [
    "from pyspark.sql.functions import udf\n",
    "pol = lambda x: round(TextBlob(x).sentiment.polarity,2)\n",
    "sub = lambda x: round(TextBlob(x).sentiment.subjectivity,2)\n",
    "\n",
    "pol = udf(pol)\n",
    "sub= udf(sub)"
   ]
  },
  {
   "cell_type": "code",
   "execution_count": 12,
   "metadata": {},
   "outputs": [],
   "source": [
    "df2 = testing.withColumn(\"Polarity\", pol(testing['text'])).withColumn(\"Subjectivity\", sub(testing['text']))"
   ]
  },
  {
   "cell_type": "code",
   "execution_count": 13,
   "metadata": {},
   "outputs": [
    {
     "name": "stdout",
     "output_type": "stream",
     "text": [
      "+--------------------+-----+------+--------+------------+\n",
      "|                text|label|length|Polarity|Subjectivity|\n",
      "+--------------------+-----+------+--------+------------+\n",
      "|   !!! STAY AWAY!!!!|  1.0|    17|     0.0|         0.0|\n",
      "|\"$2 dollar tacos ...|  4.0|   328|    0.15|        0.58|\n",
      "|\"$7 toast and $16...|  1.0|    35|     0.0|         0.0|\n",
      "|\"...and if you ev...|  4.0|    98|    -0.1|         0.7|\n",
      "|\"0\\/0 Stars. 6 mo...|  1.0|   482|   -0.21|        0.46|\n",
      "|\"1. Remodeled roo...|  3.0|    80|    0.57|        0.71|\n",
      "|\"2.5 stars, reall...|  2.0|   193|     0.4|        0.55|\n",
      "|\"3 of us missed o...|  2.0|   574|    -0.0|        0.61|\n",
      "|\"5 stars for the ...|  3.0|   286|    0.31|        0.53|\n",
      "|\"A \"\"home cooked\"...|  3.0|    34|     0.0|         0.0|\n",
      "|\"A French inspire...|  3.0|   222|     0.1|        0.44|\n",
      "|\"A bald headed fa...|  1.0|   867|    0.01|        0.56|\n",
      "|\"A fellow Yelper ...|  3.0|   102|     0.0|        0.25|\n",
      "|\"A friend and I h...|  5.0|   268|    0.13|        0.32|\n",
      "|\"A friend and I w...|  5.0|   529|    0.36|        0.57|\n",
      "|\"A good haircut i...|  5.0|    81|     0.4|        0.65|\n",
      "|\"A good\"\"away fro...|  4.0|    38|     0.7|         0.6|\n",
      "|\"A great happy ho...|  3.0|   178|    0.37|        0.82|\n",
      "|\"A little hard to...|  4.0|   208|   -0.09|        0.58|\n",
      "|\"A name that impl...|  2.0|    82|     0.0|         0.0|\n",
      "+--------------------+-----+------+--------+------------+\n",
      "only showing top 20 rows\n",
      "\n"
     ]
    }
   ],
   "source": [
    "df2.show()"
   ]
  },
  {
   "cell_type": "code",
   "execution_count": 14,
   "metadata": {},
   "outputs": [
    {
     "name": "stdout",
     "output_type": "stream",
     "text": [
      "+--------------------+-----+------+--------+------------+\n",
      "|                text|label|length|Polarity|Subjectivity|\n",
      "+--------------------+-----+------+--------+------------+\n",
      "|   !!! STAY AWAY!!!!|  1.0|    17|     0.0|         0.0|\n",
      "|\"$2 dollar tacos ...|  4.0|   328|    0.15|        0.58|\n",
      "|\"$7 toast and $16...|  1.0|    35|     0.0|         0.0|\n",
      "|\"...and if you ev...|  4.0|    98|    -0.1|         0.7|\n",
      "|\"0\\/0 Stars. 6 mo...|  1.0|   482|   -0.21|        0.46|\n",
      "|\"1. Remodeled roo...|  3.0|    80|    0.57|        0.71|\n",
      "|\"2.5 stars, reall...|  2.0|   193|     0.4|        0.55|\n",
      "|\"3 of us missed o...|  2.0|   574|    -0.0|        0.61|\n",
      "|\"5 stars for the ...|  3.0|   286|    0.31|        0.53|\n",
      "|\"A \"\"home cooked\"...|  3.0|    34|     0.0|         0.0|\n",
      "|\"A French inspire...|  3.0|   222|     0.1|        0.44|\n",
      "|\"A bald headed fa...|  1.0|   867|    0.01|        0.56|\n",
      "|\"A fellow Yelper ...|  3.0|   102|     0.0|        0.25|\n",
      "|\"A friend and I h...|  5.0|   268|    0.13|        0.32|\n",
      "|\"A friend and I w...|  5.0|   529|    0.36|        0.57|\n",
      "|\"A good haircut i...|  5.0|    81|     0.4|        0.65|\n",
      "|\"A good\"\"away fro...|  4.0|    38|     0.7|         0.6|\n",
      "|\"A great happy ho...|  3.0|   178|    0.37|        0.82|\n",
      "|\"A little hard to...|  4.0|   208|   -0.09|        0.58|\n",
      "|\"A name that impl...|  2.0|    82|     0.0|         0.0|\n",
      "+--------------------+-----+------+--------+------------+\n",
      "only showing top 20 rows\n",
      "\n"
     ]
    }
   ],
   "source": [
    "df3=df2.select('text','label','length',df2.Polarity.cast('float').alias('Polarity'),df2.Subjectivity.cast('float').alias('Subjectivity'))\n",
    "df3.show()"
   ]
  },
  {
   "cell_type": "code",
   "execution_count": 15,
   "metadata": {},
   "outputs": [
    {
     "name": "stdout",
     "output_type": "stream",
     "text": [
      "+-----+----------+------------------+--------------------+------------------+\n",
      "|label|avg(label)|       avg(length)|       avg(Polarity)| avg(Subjectivity)|\n",
      "+-----+----------+------------------+--------------------+------------------+\n",
      "|  1.0|       1.0|378.81585111920873|-0.04804177512916533|0.4594122845338699|\n",
      "|  4.0|       4.0| 286.4443320089911|   0.272713684867052|0.5349620523030915|\n",
      "|  3.0|       3.0|295.62965108793617| 0.16987527360706428|0.4897362229618307|\n",
      "|  2.0|       2.0| 323.9365188742221| 0.07076164431219087|0.4640575800996781|\n",
      "|  5.0|       5.0| 296.2475196653481| 0.35265225267831063|0.5659516656697704|\n",
      "+-----+----------+------------------+--------------------+------------------+\n",
      "\n"
     ]
    }
   ],
   "source": [
    "df4=df3.groupby('label').mean()\n",
    "df4.show()"
   ]
  }
 ],
 "metadata": {
  "kernelspec": {
   "display_name": "Python 3",
   "language": "python",
   "name": "python3"
  },
  "language_info": {
   "codemirror_mode": {
    "name": "ipython",
    "version": 3
   },
   "file_extension": ".py",
   "mimetype": "text/x-python",
   "name": "python",
   "nbconvert_exporter": "python",
   "pygments_lexer": "ipython3",
   "version": "3.7.6"
  }
 },
 "nbformat": 4,
 "nbformat_minor": 2
}
